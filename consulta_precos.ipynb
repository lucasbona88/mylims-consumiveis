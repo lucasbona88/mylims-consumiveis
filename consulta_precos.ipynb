{
  "nbformat": 4,
  "nbformat_minor": 0,
  "metadata": {
    "colab": {
      "provenance": [],
      "mount_file_id": "18S4Ifl_1aKsnh9T1Sb2nYfPgS9j-w0C8",
      "authorship_tag": "ABX9TyM3aLGWkWgvGel1OIew5mjs",
      "include_colab_link": true
    },
    "kernelspec": {
      "name": "python3",
      "display_name": "Python 3"
    },
    "language_info": {
      "name": "python"
    }
  },
  "cells": [
    {
      "cell_type": "markdown",
      "metadata": {
        "id": "view-in-github",
        "colab_type": "text"
      },
      "source": [
        "<a href=\"https://colab.research.google.com/github/lucasbona88/mylims-consumiveis/blob/main/consulta_precos.ipynb\" target=\"_parent\"><img src=\"https://colab.research.google.com/assets/colab-badge.svg\" alt=\"Open In Colab\"/></a>"
      ]
    },
    {
      "cell_type": "markdown",
      "source": [
        "Importações e definições globais."
      ],
      "metadata": {
        "id": "aWwTPEfJPRIP"
      }
    },
    {
      "cell_type": "code",
      "execution_count": null,
      "metadata": {
        "id": "BPsxo8cHe362"
      },
      "outputs": [],
      "source": [
        "import requests\n",
        "import json\n",
        "import csv\n",
        "from datetime import date\n",
        "from google.colab import userdata\n",
        "\n",
        "\"\"\"\n",
        "Valiáveis importantes (contrato deve ser feito diretamente com Labsoft)\n",
        "Há um jeito de fazer o login com usuários normais, porém usa forma de Login e Logout\n",
        "\"\"\"\n",
        "tk = userdata.get('token')\n",
        "lab = userdata.get('lab')\n",
        "cabecalho = {'x-access-key': tk, 'token': tk}"
      ]
    },
    {
      "cell_type": "markdown",
      "source": [
        "Definição de funções importantes para todo o sistema."
      ],
      "metadata": {
        "id": "LjGKup0IQzBk"
      }
    },
    {
      "cell_type": "code",
      "source": [
        "def get_json(url, id):\n",
        "  \"\"\"\n",
        "  Função principal para retornar todos os dados no myLIMS através das URL:\n",
        "  url_detalhes = retorna informações e os reagentes que foram usados para criar a solução.\n",
        "  url_lista = retorna o preço do reagente, unidade de medida e quantidade em estoque, se necessário.\n",
        "  url_mov = retorna informações de informação de consumível, útil para saber quanta água foi usada para avolumar.\n",
        "  \"\"\"\n",
        "  url_detalhes = f\"https://{lab}.mylimsweb.cloud/api/ConsumableInfoApi/GetByConsumableId?consumableId={id}&includeProperties=Info%2CInfoType%2CInfo.Options%2CMeasurementUnit%2CValueEquipment%2CValueAccount%2CValueConsumableMovement%2CValueFile%2CDependentInfo\"\n",
        "  url_lista = f\"https://{lab}.mylimsweb.cloud/api/v2/Consumables/ByServiceCenter?%24inlinecount=allpages&%24top=20&%24orderby=Id+desc&%24filter=Id+eq+{id}\"\n",
        "  url_mov = f\"https://{lab}.mylimsweb.cloud/api/ConsumableMovementApi/GetConsumableMovements?consumableId={id}&%24inlinecount=allpages&%24top=25\"\n",
        "  if url == \"url_lista\":\n",
        "    r = requests.get(url_lista, headers= cabecalho)\n",
        "  elif url == \"url_detalhes\":\n",
        "    r = requests.get(url_detalhes, headers= cabecalho)\n",
        "  else:\n",
        "    r = requests.get(url_mov, headers= cabecalho)\n",
        "  to_json = json.loads(r.content)\n",
        "  return to_json"
      ],
      "metadata": {
        "id": "Bse1j72hQyn2"
      },
      "execution_count": null,
      "outputs": []
    },
    {
      "cell_type": "markdown",
      "source": [
        "Definições do Objeto Reagente"
      ],
      "metadata": {
        "id": "UJXynth6PvsB"
      }
    },
    {
      "cell_type": "code",
      "source": [
        "# definições da classe\n",
        "class Reagente:\n",
        "  def __init__(self, id: int, identificacao=\"\", preco=\"-\", estoque=\"-\", unidade=\"\", consumo =\"\"):\n",
        "    self.id = id\n",
        "    self.identificacao = identificacao\n",
        "    self.preco = preco\n",
        "    self.estoque = estoque\n",
        "    self.unidade = unidade\n",
        "    self.consumo = consumo\n",
        "    self.reagente_id = []\n",
        "    self.reagente_unidade = []\n",
        "    self.reagente_preco = []\n",
        "    self.reagente_consumo = []\n",
        "    self.quantidade = 0\n",
        "\n",
        "    self.consulta_dados(self.id)\n",
        "    self.get_quantidade(self.id)\n",
        "\n",
        "  def mostra(self):\n",
        "    \"\"\"\n",
        "    Retornar uma frase com as principais informações\n",
        "    \"\"\"\n",
        "    return f'ID: {self.id}, Identificação: {self.identificacao}, Preço: {self.preco}, Unidade: {self.unidade}, Consumo: {self.consumo}, Reagentes: {self.reagente_id}, Quantidade Produzida: {self.quantidade}'\n",
        "\n",
        "  def get_quantidade(self, id):\n",
        "    \"\"\"\n",
        "    Retorna a quantidade de reagente cadastrada\n",
        "    \"\"\"\n",
        "    to_json = get_json(url=\"url_mov\", id=id)\n",
        "    self.quantidade = to_json['Items'][0]['Quantity']\n",
        "\n",
        "  def consulta_dados(self, id):\n",
        "    \"\"\"\n",
        "    Busca na 'url_lista'\n",
        "    Retorna dados do Reagente, se o preço existir preenche o mesmo.\n",
        "    Dados que retornam:\n",
        "    - Unidade;\n",
        "    - Identificação;\n",
        "    - Preço.\n",
        "    \"\"\"\n",
        "    try:\n",
        "      to_json = get_json(url=\"url_lista\", id=id)\n",
        "      if to_json['Count'] == 0:\n",
        "        raise KeyError\n",
        "      else:\n",
        "        self.unidade = to_json['Result'][0]['ConsumableType']['MeasurementUnit']['Identification']\n",
        "        self.identificacao = to_json['Result'][0]['ConsumableType']['Identification']\n",
        "        self.preco = to_json['Result'][0]['Cost']\n",
        "        self.estoque = to_json['Result'][0]['Quantity']\n",
        "    except KeyError as e:\n",
        "      print(f\"Error retrieving data for ID {id}: {e}\")\n",
        "      self.unidade = None\n",
        "\n",
        "  def get_consumiveis(self):\n",
        "    \"\"\"\n",
        "    Faz uma busca na 'url_detalhes' pelo ID do consumível principal.\n",
        "    Retorna os IDs, unidade de medida e quantidade utilizada.\n",
        "    O filtro para saber qual informação é um consumível é se é um tipo de informação = 8 (movimento de consumível).\n",
        "    \"\"\"\n",
        "  # pegando dados dos consumíveis\n",
        "    # print(f'Pegando dados de consumíveis do ID:{self.id}')\n",
        "    to_json = get_json(url=\"url_detalhes\", id=self.id)\n",
        "    #  Pegar os consumíveis\n",
        "    # print(f'aqui o to_json {to_json}')\n",
        "    for item in to_json:\n",
        "      if item['Info']['InfoTypeId'] == 8:\n",
        "        if item['ValueConsumableMovement'] == None:\n",
        "          self.reagente_id.append(0)\n",
        "          self.reagente_unidade.append(0)\n",
        "          self.reagente_consumo.append(1)\n",
        "        else:\n",
        "          if item['ValueConsumableMovement']['Quantity'] == 0:\n",
        "            self.reagente_id.append(item['ValueConsumableMovement']['ConsumableId'])\n",
        "            self.reagente_unidade.append(item['MeasurementUnit']['Identification'])\n",
        "            self.reagente_consumo.append(1)\n",
        "          else:\n",
        "            self.reagente_id.append(item['ValueConsumableMovement']['ConsumableId'])\n",
        "            self.reagente_unidade.append(item['DisplayValue'])\n",
        "            self.reagente_consumo.append((item['ValueConsumableMovement']['Quantity'] *-1))\n",
        "            self.reagente_preco.append(get_preco(item['ValueConsumableMovement']['ConsumableId']))\n",
        "      else:\n",
        "        pass\n",
        "\n",
        "  def registra_dados(self, nome_arquivo):\n",
        "    \"\"\"\n",
        "    Exporta as informações do reagente para um arquivo CSV.\n",
        "    Args:\n",
        "        nome_arquivo (str): Nome do arquivo CSV a ser criado.\n",
        "    \"\"\"\n",
        "    nome_arquivo = f\"/content/drive/MyDrive/consulta_precos/\" + nome_arquivo\n",
        "    with open(nome_arquivo, \"a\", newline=\"\",encoding='utf-8') as csv_file:\n",
        "        writer = csv.writer(csv_file, delimiter =\";\",dialect= 'excel')\n",
        "        if csv_file.tell() == 0:  # Cabeçalho do CSV\n",
        "            writer.writerow([\"ID\", \"Identificacao\", \"Unidade\", \"ID R.\", \"Qtd. R. \",\"Unid R.\",  \"Lote R.\", \"Custo Reagentes\", \"Quantidade Frasco\", \"Custo Unidade\"])\n",
        "        if self.reagente_id == []:\n",
        "          dados = [self.id, self.identificacao, self.unidade, f'-', f'-', f'-', '-', '-', str(self.quantidade).replace(\".\",\",\"), str(self.preco).replace(\".\",\",\") ]\n",
        "          writer.writerow(dados)\n",
        "        else:\n",
        "          for i in range(len(self.reagente_id)):\n",
        "            dados = [self.id, self.identificacao, self.unidade, self.reagente_id[i], str(self.reagente_consumo[i]).replace(\".\",\",\"),\n",
        "                    str(self.reagente_unidade[i]).split(' ')[1],self.reagente_unidade[i], str(self.reagente_preco[i]).replace(\".\",\",\"), str(self.quantidade).replace(\".\",\",\"), '-']\n",
        "            writer.writerow(dados)\n",
        "        # print(f'Registrando no arquivo: {nome_arquivo}')\n",
        "    nome_arquivo = None\n",
        "\n",
        "\n",
        "  def registra_estoque(self, nome_arquivo):\n",
        "    \"\"\"\n",
        "    Exporta as informações de estoque dos reagentes.\n",
        "    Args:\n",
        "        nome_arquivo (str): Nome do arquivo CSV a ser criado.\n",
        "    \"\"\"\n",
        "    nome_arquivo = f\"/content/drive/MyDrive/mapa_PF/\" + nome_arquivo\n",
        "    data_consulta = date.today()\n",
        "    with open(nome_arquivo, \"a\", newline=\"\",encoding='utf-8') as csv_file:\n",
        "        writer = csv.writer(csv_file, delimiter =\";\",dialect= 'excel')\n",
        "        if csv_file.tell() == 0:  # Cabeçalho do CSV\n",
        "            writer.writerow([\"ID\", \"Identificacao\", \"Estoque\", \"Unidade\", \"Data\"])\n",
        "        dados = [self.id, self.identificacao, str(self.estoque).replace(\".\",\",\"), self.unidade, data_consulta ]\n",
        "        # print(f'Registrando no arquivo: {nome_arquivo}')\n",
        "        writer.writerow(dados)\n",
        "    nome_arquivo = None"
      ],
      "metadata": {
        "id": "c0qD_Ux9iHMf"
      },
      "execution_count": null,
      "outputs": []
    },
    {
      "cell_type": "markdown",
      "source": [
        "Definição de outras Funções auxiliares"
      ],
      "metadata": {
        "id": "9amofW9WRdE8"
      }
    },
    {
      "cell_type": "code",
      "source": [
        "def get_preco(id):\n",
        "  \"\"\"\n",
        "  Retorna o preço a partir de um id buscando diretamente na 'url_lista', caso não exista preço\n",
        "  retorna com '-'\n",
        "  \"\"\"\n",
        "  # print(f'tentando pegar preço do id {id}')\n",
        "  to_json = get_json(url=\"url_lista\", id=id)\n",
        "\n",
        "  preco = to_json['Result'][0]['Cost']\n",
        "  # print(f'Preço encontrado: {preco}')\n",
        "  if preco == None:\n",
        "    # print(f'{preco} - categorizado como None')\n",
        "    return \"-\"\n",
        "  else:\n",
        "    # print(f'{preco} - categorizado como número')\n",
        "    return preco\n",
        "\n",
        "def pega_todos_precos(lista_id = []):\n",
        "  \"\"\"\n",
        "  Basicamente utiliza a função get_preco() para uma lista de ids.\n",
        "  \"\"\"\n",
        "  # print('iniciando pega_todos_precos()')\n",
        "  lista_preco = []\n",
        "  length = len(lista_id)\n",
        "  # print(f'lista de ids passado: {lista_id}')\n",
        "  for i in range(length):\n",
        "    if lista_id[i] == 0:\n",
        "      lista_preco.append(0)\n",
        "    else:\n",
        "      lista_preco.append(get_preco(lista_id[i]))\n",
        "  return lista_preco\n",
        "\n",
        "def calcula_preco(quantidade, lista_id = [],lista_preco = [], lista_quant = []):\n",
        "  \"\"\"\n",
        "  Com a lista de IDs, quantidades e preços faz o cálculo de custo de reagentes.\n",
        "  Chama automaticamente a função pega_todos_precos() para preencher a lista de preços.\n",
        "  Retorna o cálculo de preço de um reagente.\n",
        "  \"\"\"\n",
        "  # print('Pegando todos os preços')\n",
        "  preco_final = 0\n",
        "  lista_preco = pega_todos_precos(lista_id)\n",
        "  length = len(lista_id)\n",
        "  novo_reagente = {}\n",
        "  # if len(lista_id) == 0:\n",
        "  #   raise ValueError(\"lista_id is empty\")\n",
        "  for i in range(length):\n",
        "    # print('Início dos cálculos')\n",
        "    if lista_id[i] == 0:\n",
        "      lista_preco[i] = 0\n",
        "    elif lista_preco[i] == \"-\":\n",
        "      # cria um Reagente com este id\n",
        "      # print('Criando um novo reagente')\n",
        "      novo_reagente[i] = lista_id[i]\n",
        "\n",
        "      novo_reagente[i] = Reagente(id=int(novo_reagente[i]))\n",
        "      # print(f'id do novo_reagente = {novo_reagente[i].id}')\n",
        "      novo_reagente[i].get_consumiveis()\n",
        "      lista_preco[i] = float(calcula_preco(novo_reagente[i].quantidade, novo_reagente[i].reagente_id, novo_reagente[i].reagente_preco, novo_reagente[i].reagente_consumo))\n",
        "      # print(f'foi pelo calcula preco {lista_preco[i]}')\n",
        "      # print('passou direto')\n",
        "\n",
        "    preco_final = preco_final + ( lista_preco[i] * lista_quant[i])\n",
        "    # print(f'Calculando preço: {preco_final}')\n",
        "  # print(f'Preço Final: {preco_final}')\n",
        "  preco_final = round(preco_final, 2)\n",
        "  return preco_final\n",
        "\n",
        "def calcula_e_registra(id, saida=\"saida.csv\"):\n",
        "  \"\"\"\n",
        "  Com um id de qualquer consumível do myLIMS, registra em um csv 'saida.csv' ou outro.\n",
        "  Caso não seja um Reagente com preço, faz o cálculo\n",
        "  \"\"\"\n",
        "  # print('Iniciando calcula_e_registra()')\n",
        "  alvo = Reagente(id=id)\n",
        "  # print(alvo.mostra())\n",
        "  if alvo.preco == None:\n",
        "    # print('passo 1')\n",
        "    alvo.get_consumiveis()\n",
        "\n",
        "    alvo.preco = calcula_preco(alvo.quantidade, alvo.reagente_id, [], alvo.reagente_consumo)\n",
        "\n",
        "  alvo.registra_dados(saida)\n",
        "\n",
        "def get_registra_estoque(id, saida=\"saida.csv\"):\n",
        "  \"\"\"\n",
        "  Com um id de qualquer consumível do myLIMS, registra em um csv 'saida.csv' ou outro.\n",
        "  Registra o estoque do id passado\n",
        "  \"\"\"\n",
        "  alvo = Reagente(id=id)\n",
        "  alvo.consulta_dados(id=alvo.id)\n",
        "  alvo.registra_estoque(saida)"
      ],
      "metadata": {
        "id": "rxlxCik4Rgve"
      },
      "execution_count": null,
      "outputs": []
    },
    {
      "cell_type": "markdown",
      "source": [
        "Teste com uma lista de IDS com produtos controlados"
      ],
      "metadata": {
        "id": "nM3ASExRQBvW"
      }
    },
    {
      "cell_type": "code",
      "source": [
        "# lista de IDs dos reagentes controlados\n",
        "controlados = [11615,1255,4559,11640,1254,3589,3683,5332,1260,1681,5995,1556,5992,6031,13747,16040,5412,10199,9989,1519,10924,7990,13897,13901,4549,5996,5134,1378,4555,755,4556,4551,3670,16046,5404,10193,15894,16038,6041]\n",
        "\n",
        "for reagente in controlados:\n",
        "  get_registra_estoque(reagente)"
      ],
      "metadata": {
        "id": "xrLgSGsUmDZJ"
      },
      "execution_count": null,
      "outputs": []
    },
    {
      "cell_type": "markdown",
      "source": [
        "Através de um arquivo csv com lista de IDS de reagentes, pega um por um e gera outro arquivo com os valores calculados."
      ],
      "metadata": {
        "id": "K-bLkQiaQPo-"
      }
    },
    {
      "cell_type": "code",
      "source": [
        "# Nome do arquivo CSV\n",
        "arquivo_entrada = f\"/content/drive/MyDrive/consulta_precos/\" + 'lista.csv'\n",
        "\n",
        "# Abre arquivo csv com lista de reagentes a pesquisar\n",
        "with open(arquivo_entrada, newline='') as csvfile:\n",
        "  reader = csv.reader(csvfile)\n",
        "  read = list(reader)\n",
        "\n",
        "  for linha in read[1:]:\n",
        "    id = int(linha[0])\n",
        "    calcula_e_registra(id=id, saida=\"saida.csv\")"
      ],
      "metadata": {
        "id": "VR6K0yUDGKRj"
      },
      "execution_count": null,
      "outputs": []
    },
    {
      "cell_type": "code",
      "source": [
        "calcula_e_registra(15609)"
      ],
      "metadata": {
        "id": "BOdMlyqroLhX"
      },
      "execution_count": null,
      "outputs": []
    }
  ]
}